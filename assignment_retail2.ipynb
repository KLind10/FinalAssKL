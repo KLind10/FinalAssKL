{
  "nbformat": 4,
  "nbformat_minor": 0,
  "metadata": {
    "kernelspec": {
      "display_name": "Python 3",
      "language": "python",
      "name": "python3"
    },
    "language_info": {
      "codemirror_mode": {
        "name": "ipython",
        "version": 3
      },
      "file_extension": ".py",
      "mimetype": "text/x-python",
      "name": "python",
      "nbconvert_exporter": "python",
      "pygments_lexer": "ipython3",
      "version": "3.9.5"
    },
    "colab": {
      "name": "assignment-retail2.ipynb",
      "provenance": [],
      "collapsed_sections": [],
      "include_colab_link": true
    }
  },
  "cells": [
    {
      "cell_type": "markdown",
      "metadata": {
        "id": "view-in-github",
        "colab_type": "text"
      },
      "source": [
        "<a href=\"https://colab.research.google.com/github/KLind10/FinalAssKL/blob/main/assignment_retail2.ipynb\" target=\"_parent\"><img src=\"https://colab.research.google.com/assets/colab-badge.svg\" alt=\"Open In Colab\"/></a>"
      ]
    },
    {
      "cell_type": "markdown",
      "metadata": {
        "id": "FlfDXpBj6sMA"
      },
      "source": [
        "<img src=\"https://static.wincacademy.nl/logos/main-logo.png\" height=200px style=\"height: 200px\"/>"
      ]
    },
    {
      "cell_type": "markdown",
      "metadata": {
        "id": "e6BGCiHA6sMB"
      },
      "source": [
        "# Assignment: Retail\n",
        "\n",
        "Congratulations! You've reached the final assignment for the course before the bonus modules. Here we'll ask you to work with a dataset from the Dutch *Centraal Bureau voor de Statistiek* (CBS, English: Statistics Netherlands). It contains monthly growth percentages for various branches of the retail sector. You'll be required to answer open questions as well as write code that handles the data and crunches numbers.\n",
        "\n",
        "*Answer open questions as though you were writing a report. Answers that are too vague, too short or too sloppy will be rejected.*"
      ]
    },
    {
      "cell_type": "markdown",
      "metadata": {
        "id": "pHHuL7zw6sMC"
      },
      "source": [
        "## 0. Load required modules\n",
        "\n",
        "First, we need to load some modules that we're going to use. Do that in the next code cell. If you don't know yet which modules you'll use, just read on and come back here to import them later. **Don't forget to run the cell whenever you make an edit!**"
      ]
    },
    {
      "cell_type": "code",
      "metadata": {
        "id": "hNPI0NeR6sMD"
      },
      "source": [
        "import csv\n",
        "from datetime import datetime\n",
        "import dateutil.parser"
      ],
      "execution_count": 1,
      "outputs": []
    },
    {
      "cell_type": "markdown",
      "metadata": {
        "id": "ksJZ9Fwf6sMD"
      },
      "source": [
        "## 1. Data Preparation\n",
        "Now we need to load and parse the data. The data should be located in the same folder as this notebook (whether that's on Google Colab or your local machine). Make sure you have working file path from your notebook to the supplied `data.csv` file. Put an `x` in the checkbox below when you're ready.\n",
        "\n",
        "- [x] *I have a working file path to the `data.csv` file.*\n",
        "\n",
        "You are now ready to proceed with reading the data into your program.\n",
        "\n",
        "### 1.1 Read the CSV\n",
        "\n",
        "The data comes in the form of a `csv`-file. CSV stands for 'comma separated values'. Oddly enough it need not be the case that the values are *really* separated by commas. In this case, the **delimiter** - the character that separates the columns within a datapoint - is *not* a comma. It's up to you to inspect `data.csv` and find out what the delimiter is.\n",
        "\n",
        "Once you know what the delimiter is, you can use Python's `csv` module to read each of the datapoints to a dictionary. Some tips:\n",
        "\n",
        "- The module's name is `csv`.\n",
        "- You can find its documentation [here](https://docs.python.org/3/library/csv.html)\n",
        "- We suggest you use the `DictReader` class. There's an example on how to use `DictReader` in the linked documentation.\n",
        "- Instead of printing the rows (like in the example), we suggest you store all the rows as `dict`s in a `list`.\n",
        "\n",
        "**1. In the code cell below, write code that opens and reads the data. By the end of the cell, you should have a variable `data` that is a list of dictionaries that each contain a datapoint.**"
      ]
    },
    {
      "cell_type": "code",
      "metadata": {
        "colab": {
          "base_uri": "https://localhost:8080/"
        },
        "id": "tJgre4rW6sME",
        "outputId": "feba67a4-4493-4e57-d41e-52f27dc72f0b"
      },
      "source": [
        "retail_data = []\n",
        "csv_data = csv.DictReader(open('retail-data.csv'), delimiter=';' )\n",
        "\n",
        "for row in csv_data:\n",
        "  retail_data.append(dict(row))\n",
        "\n",
        "retail_data[:3]"
      ],
      "execution_count": 2,
      "outputs": [
        {
          "output_type": "execute_result",
          "data": {
            "text/plain": [
              "[{'Bedrijfstakken/branches (SBI 2008)': '4711, 472 Winkels in voedingsmiddelen',\n",
              "  'Omzet ongecorrigeerd/Indexcijfers/Volume (2015=100)': '    86.4',\n",
              "  'Omzet ongecorrigeerd/Indexcijfers/Waarde (2015=100)': '    73.1',\n",
              "  'Perioden': '2005 januari'},\n",
              " {'Bedrijfstakken/branches (SBI 2008)': '4711, 472 Winkels in voedingsmiddelen',\n",
              "  'Omzet ongecorrigeerd/Indexcijfers/Volume (2015=100)': '    83.9',\n",
              "  'Omzet ongecorrigeerd/Indexcijfers/Waarde (2015=100)': '    71.5',\n",
              "  'Perioden': '2005 februari'},\n",
              " {'Bedrijfstakken/branches (SBI 2008)': '4711, 472 Winkels in voedingsmiddelen',\n",
              "  'Omzet ongecorrigeerd/Indexcijfers/Volume (2015=100)': '    96.8',\n",
              "  'Omzet ongecorrigeerd/Indexcijfers/Waarde (2015=100)': '    83.0',\n",
              "  'Perioden': '2005 maart'}]"
            ]
          },
          "metadata": {
            "tags": []
          },
          "execution_count": 2
        }
      ]
    },
    {
      "cell_type": "markdown",
      "metadata": {
        "id": "2853G_kI6sMF"
      },
      "source": [
        "### 1.2 Parse and clean the data\n",
        "\n",
        "You now have a list of dictionaries that each contain some data. But what data? Answer the following questions to become familiar with this dataset. It requires you to write and execute Python code (you can add code cells if you wish), and also search the web for terms you're not familiar with.\n",
        "\n",
        "**2. What are the column names in this dataset, and what do they mean? Be specific.**\n",
        "\n",
        "- Bedrijfstakken/branches (SBI 2008) = The Dutch Standaard Bedrijfsindeling (SBI 2008) is based on the activity classification of the European Union (Nomenclature statistique des activités économiques dans la Communauté Européenne, NACE) and on the classification of the United Nations (International Standard Industrial Classification of All Economic Activities, ISIC). The given data contains the number of industries or number of a specific branche.  (Source: https://www.cbs.nl/en-gb/onze-diensten/methods/classifications/activiteiten/standard-industrial-classifications--dutch-sbi-2008-nace-and-isic--) \n",
        "\n",
        "- Perioden = A specific period. In this case the period is a month of a year. \n",
        "\n",
        "- Omzet ongecorrigeerd/Indexcijfers/Waarde (2015=100) = The data contains figures on the value and volume development of the retail trade. The figures can be broken down by sector according to the Standard Business Classification (SBI 2008) of Statistics Netherlands. The development shown as a percentage change compared to a previous period and by indices with 2015 as base year. (Source: https://www.cbs.nl/nl-nl/cijfers/detail/83868NED?dl=154CF)\n",
        "\n",
        "- Omzet ongecorrigeerd/Indexcijfers/Volume (2015=100) = The data contains figures on the value and volume development of the retail trade. The figures can be broken down by sector according to the Standard Business Classification (SBI 2008) of Statistics Netherlands. The development shown as a percentage change compared to a previous period and by indices with 2015 as base year. (Source: https://www.cbs.nl/nl-nl/cijfers/detail/83868NED?dl=154CF)\n",
        "\n",
        "  Volume is an abstract concept mainly used in macro and meso statistics. In the statistic on (for example) household consumption it indicates what is sold, and when the correction for price changes is made. Volume cannot be measured directly. It is derived from value and price. Value equals turnover. As a formula: Volume = Value / Price. (Source: https://www.cbs.nl/en-gb/onze-diensten/methods/surveys/aanvullende-onderzoeksbeschrijvingen/the-volume-concept-in-economic-publications)\n",
        "\n",
        "**3. For each column, list what data type it should have (`str`, `int`, `float` or `datetime.date`).**\n",
        "\n",
        "- Bedrijfstakken/branches (SBI 2008) = str\n",
        "- Perioden = datetime.date\n",
        "- Omzet ongecorrigeerd/Indexcijfers/Waarde (2015=100) = float\n",
        "- Omzet ongecorrigeerd/Indexcijfers/Volume (2015=100) = float\n",
        "    \n",
        "**4. In the code cell below, write code that changes the column names to something more convenient for writing readable code. Be sure to choose English, correct and meaningful names.**"
      ]
    },
    {
      "cell_type": "code",
      "metadata": {
        "colab": {
          "base_uri": "https://localhost:8080/"
        },
        "id": "Wx0yA9fq6sMF",
        "outputId": "6b851a9b-d140-4b44-fee0-fe38aaadb580"
      },
      "source": [
        "for d in retail_data:\n",
        "  d['Branche'] = d.pop('Bedrijfstakken/branches (SBI 2008)')\n",
        "  d['Period'] = d.pop('Perioden')\n",
        "  d['Index Value'] = d.pop('Omzet ongecorrigeerd/Indexcijfers/Waarde (2015=100)')\n",
        "  d['Index Volume'] = d.pop('Omzet ongecorrigeerd/Indexcijfers/Volume (2015=100)')\n",
        "\n",
        "retail_data[:3]"
      ],
      "execution_count": 3,
      "outputs": [
        {
          "output_type": "execute_result",
          "data": {
            "text/plain": [
              "[{'Branche': '4711, 472 Winkels in voedingsmiddelen',\n",
              "  'Index Value': '    73.1',\n",
              "  'Index Volume': '    86.4',\n",
              "  'Period': '2005 januari'},\n",
              " {'Branche': '4711, 472 Winkels in voedingsmiddelen',\n",
              "  'Index Value': '    71.5',\n",
              "  'Index Volume': '    83.9',\n",
              "  'Period': '2005 februari'},\n",
              " {'Branche': '4711, 472 Winkels in voedingsmiddelen',\n",
              "  'Index Value': '    83.0',\n",
              "  'Index Volume': '    96.8',\n",
              "  'Period': '2005 maart'}]"
            ]
          },
          "metadata": {
            "tags": []
          },
          "execution_count": 3
        }
      ]
    },
    {
      "cell_type": "markdown",
      "metadata": {
        "id": "h5w2vKHI6sMG"
      },
      "source": [
        "**5. In the code cell below, write code that casts all the data to the right type.**\n",
        "\n",
        "Tips:\n",
        "- If you overwite your data, running the casting operation you're about to implement more than once might result in errors. In that case you can opt not to reuse a variable or restart and rerun your notebook for every retry.\n",
        "- The data is in Dutch. For some columns this does not matter, but for one in particular it makes parsing it a little bit harder. There is a way to handle this in a few lines of code. You'll need Python's `locale` module for this, as well as the special string `'nl_NL.UTF-8'`. If you're not sure how to use this information after searching the web for a while, it's OK to take the long way around and write custom code to handle the Dutch words. *Note: Google Colab does not support the Dutch locale at this time. If you use Google Colab, you unfortunately can't use the `locale` trick and must write extra code yourself to handle the Dutch dates.*\n",
        "- The parsing script is bound to run into errors. **Do not modify the data file on disk.** Carefully read the error, examine why it works on most values and crashes on some others, and apply a fix in your code! We'll give you some tips:\n",
        "    - A handful of values in the `Perioden`-column might cause an error due to an unexpected character. You can safely ignore that character.\n",
        "    - Handle missing numerical values by replacing them with `-1.`. Be sure to maintain the correct datatype for that column!"
      ]
    },
    {
      "cell_type": "code",
      "metadata": {
        "colab": {
          "base_uri": "https://localhost:8080/",
          "height": 374
        },
        "id": "3T5aUqIm6sMH",
        "outputId": "c70f2aa8-5da0-449a-cccf-6e63455c2f18"
      },
      "source": [
        "# Convert string of \"Index Value\" and \"Index Volume\" into float\n",
        " \n",
        "def convert_to_float(strng):\n",
        "   try:\n",
        "     flt = float(strng)\n",
        "   except ValueError:\n",
        "     flt = -1\n",
        "   \n",
        "   return flt\n",
        "\n",
        "# Convert Dutch date to English date\n",
        "\n",
        "def convert_to_date(date):\n",
        "    all_months = {\n",
        "       \"january\" : \"January\",\n",
        "       \"februari\" : \"February\",\n",
        "       \"maart\" : \"March\",\n",
        "       \"april\" : \"April\",\n",
        "       \"mei\" : \"May\",\n",
        "       \"juni\" : \"June\",\n",
        "       \"juli\" : \"July\",\n",
        "       \"augustus\" : \"August\",\n",
        "       \"september\" : \"September\",\n",
        "       \"oktober\" : \"October\",\n",
        "       \"november\" : \"November\",\n",
        "       \"december\" : \"December\"\n",
        "\n",
        "   }   \n",
        "    for month_d, month_en in all_months.items():\n",
        "        if date.endswith(\"*\"):\n",
        "            date = date[:-1]\n",
        "            date = date.replace(month_d, month_en)\n",
        "        else:\n",
        "            date = date.replace(month_d, month_en)\n",
        "\n",
        "    return dateutil.parser.parse(date) \n",
        "\n",
        "# Replacement of period, index value and index volume\n",
        "\n",
        "for d in retail_data:\n",
        "    d['Index Value'] = convert_to_float(d['Index Value'])\n",
        "    d['Index Volume'] = convert_to_float(d['Index Volume'])\n",
        "    d['Period'] = convert_to_date(d['Period'])\n",
        "\n",
        "retail_data[:3]"
      ],
      "execution_count": 4,
      "outputs": [
        {
          "output_type": "error",
          "ename": "ParserError",
          "evalue": "ignored",
          "traceback": [
            "\u001b[0;31m---------------------------------------------------------------------------\u001b[0m",
            "\u001b[0;31mParserError\u001b[0m                               Traceback (most recent call last)",
            "\u001b[0;32m<ipython-input-4-00315d9c79ed>\u001b[0m in \u001b[0;36m<module>\u001b[0;34m()\u001b[0m\n\u001b[1;32m     41\u001b[0m     \u001b[0md\u001b[0m\u001b[0;34m[\u001b[0m\u001b[0;34m'Index Value'\u001b[0m\u001b[0;34m]\u001b[0m \u001b[0;34m=\u001b[0m \u001b[0mconvert_to_float\u001b[0m\u001b[0;34m(\u001b[0m\u001b[0md\u001b[0m\u001b[0;34m[\u001b[0m\u001b[0;34m'Index Value'\u001b[0m\u001b[0;34m]\u001b[0m\u001b[0;34m)\u001b[0m\u001b[0;34m\u001b[0m\u001b[0;34m\u001b[0m\u001b[0m\n\u001b[1;32m     42\u001b[0m     \u001b[0md\u001b[0m\u001b[0;34m[\u001b[0m\u001b[0;34m'Index Volume'\u001b[0m\u001b[0;34m]\u001b[0m \u001b[0;34m=\u001b[0m \u001b[0mconvert_to_float\u001b[0m\u001b[0;34m(\u001b[0m\u001b[0md\u001b[0m\u001b[0;34m[\u001b[0m\u001b[0;34m'Index Volume'\u001b[0m\u001b[0;34m]\u001b[0m\u001b[0;34m)\u001b[0m\u001b[0;34m\u001b[0m\u001b[0;34m\u001b[0m\u001b[0m\n\u001b[0;32m---> 43\u001b[0;31m     \u001b[0md\u001b[0m\u001b[0;34m[\u001b[0m\u001b[0;34m'Period'\u001b[0m\u001b[0;34m]\u001b[0m \u001b[0;34m=\u001b[0m \u001b[0mconvert_to_date\u001b[0m\u001b[0;34m(\u001b[0m\u001b[0md\u001b[0m\u001b[0;34m[\u001b[0m\u001b[0;34m'Period'\u001b[0m\u001b[0;34m]\u001b[0m\u001b[0;34m)\u001b[0m\u001b[0;34m\u001b[0m\u001b[0;34m\u001b[0m\u001b[0m\n\u001b[0m\u001b[1;32m     44\u001b[0m \u001b[0;34m\u001b[0m\u001b[0m\n\u001b[1;32m     45\u001b[0m \u001b[0mretail_data\u001b[0m\u001b[0;34m[\u001b[0m\u001b[0;34m:\u001b[0m\u001b[0;36m3\u001b[0m\u001b[0;34m]\u001b[0m\u001b[0;34m\u001b[0m\u001b[0;34m\u001b[0m\u001b[0m\n",
            "\u001b[0;32m<ipython-input-4-00315d9c79ed>\u001b[0m in \u001b[0;36mconvert_to_date\u001b[0;34m(date)\u001b[0m\n\u001b[1;32m     34\u001b[0m             \u001b[0mdate\u001b[0m \u001b[0;34m=\u001b[0m \u001b[0mdate\u001b[0m\u001b[0;34m.\u001b[0m\u001b[0mreplace\u001b[0m\u001b[0;34m(\u001b[0m\u001b[0mmonth_d\u001b[0m\u001b[0;34m,\u001b[0m \u001b[0mmonth_en\u001b[0m\u001b[0;34m)\u001b[0m\u001b[0;34m\u001b[0m\u001b[0;34m\u001b[0m\u001b[0m\n\u001b[1;32m     35\u001b[0m \u001b[0;34m\u001b[0m\u001b[0m\n\u001b[0;32m---> 36\u001b[0;31m     \u001b[0;32mreturn\u001b[0m \u001b[0mdateutil\u001b[0m\u001b[0;34m.\u001b[0m\u001b[0mparser\u001b[0m\u001b[0;34m.\u001b[0m\u001b[0mparse\u001b[0m\u001b[0;34m(\u001b[0m\u001b[0mdate\u001b[0m\u001b[0;34m)\u001b[0m\u001b[0;34m\u001b[0m\u001b[0;34m\u001b[0m\u001b[0m\n\u001b[0m\u001b[1;32m     37\u001b[0m \u001b[0;34m\u001b[0m\u001b[0m\n\u001b[1;32m     38\u001b[0m \u001b[0;31m# Replacement of period, index value and index volume\u001b[0m\u001b[0;34m\u001b[0m\u001b[0;34m\u001b[0m\u001b[0;34m\u001b[0m\u001b[0m\n",
            "\u001b[0;32m/usr/local/lib/python3.7/dist-packages/dateutil/parser/_parser.py\u001b[0m in \u001b[0;36mparse\u001b[0;34m(timestr, parserinfo, **kwargs)\u001b[0m\n\u001b[1;32m   1372\u001b[0m         \u001b[0;32mreturn\u001b[0m \u001b[0mparser\u001b[0m\u001b[0;34m(\u001b[0m\u001b[0mparserinfo\u001b[0m\u001b[0;34m)\u001b[0m\u001b[0;34m.\u001b[0m\u001b[0mparse\u001b[0m\u001b[0;34m(\u001b[0m\u001b[0mtimestr\u001b[0m\u001b[0;34m,\u001b[0m \u001b[0;34m**\u001b[0m\u001b[0mkwargs\u001b[0m\u001b[0;34m)\u001b[0m\u001b[0;34m\u001b[0m\u001b[0;34m\u001b[0m\u001b[0m\n\u001b[1;32m   1373\u001b[0m     \u001b[0;32melse\u001b[0m\u001b[0;34m:\u001b[0m\u001b[0;34m\u001b[0m\u001b[0;34m\u001b[0m\u001b[0m\n\u001b[0;32m-> 1374\u001b[0;31m         \u001b[0;32mreturn\u001b[0m \u001b[0mDEFAULTPARSER\u001b[0m\u001b[0;34m.\u001b[0m\u001b[0mparse\u001b[0m\u001b[0;34m(\u001b[0m\u001b[0mtimestr\u001b[0m\u001b[0;34m,\u001b[0m \u001b[0;34m**\u001b[0m\u001b[0mkwargs\u001b[0m\u001b[0;34m)\u001b[0m\u001b[0;34m\u001b[0m\u001b[0;34m\u001b[0m\u001b[0m\n\u001b[0m\u001b[1;32m   1375\u001b[0m \u001b[0;34m\u001b[0m\u001b[0m\n\u001b[1;32m   1376\u001b[0m \u001b[0;34m\u001b[0m\u001b[0m\n",
            "\u001b[0;32m/usr/local/lib/python3.7/dist-packages/dateutil/parser/_parser.py\u001b[0m in \u001b[0;36mparse\u001b[0;34m(self, timestr, default, ignoretz, tzinfos, **kwargs)\u001b[0m\n\u001b[1;32m    647\u001b[0m \u001b[0;34m\u001b[0m\u001b[0m\n\u001b[1;32m    648\u001b[0m         \u001b[0;32mif\u001b[0m \u001b[0mres\u001b[0m \u001b[0;32mis\u001b[0m \u001b[0;32mNone\u001b[0m\u001b[0;34m:\u001b[0m\u001b[0;34m\u001b[0m\u001b[0;34m\u001b[0m\u001b[0m\n\u001b[0;32m--> 649\u001b[0;31m             \u001b[0;32mraise\u001b[0m \u001b[0mParserError\u001b[0m\u001b[0;34m(\u001b[0m\u001b[0;34m\"Unknown string format: %s\"\u001b[0m\u001b[0;34m,\u001b[0m \u001b[0mtimestr\u001b[0m\u001b[0;34m)\u001b[0m\u001b[0;34m\u001b[0m\u001b[0;34m\u001b[0m\u001b[0m\n\u001b[0m\u001b[1;32m    650\u001b[0m \u001b[0;34m\u001b[0m\u001b[0m\n\u001b[1;32m    651\u001b[0m         \u001b[0;32mif\u001b[0m \u001b[0mlen\u001b[0m\u001b[0;34m(\u001b[0m\u001b[0mres\u001b[0m\u001b[0;34m)\u001b[0m \u001b[0;34m==\u001b[0m \u001b[0;36m0\u001b[0m\u001b[0;34m:\u001b[0m\u001b[0;34m\u001b[0m\u001b[0;34m\u001b[0m\u001b[0m\n",
            "\u001b[0;31mParserError\u001b[0m: Unknown string format: 2005 januari"
          ]
        }
      ]
    },
    {
      "cell_type": "markdown",
      "metadata": {
        "id": "vqgyZnBq6sMI"
      },
      "source": [
        "## 2. Data Exploration\n",
        "\n",
        "You are now ready to explore the data.\n",
        "\n",
        "**6. In the code cell below, print the following metadata. Format the printed text in a nice and tidy way. Put an `x` in the checkboxes when you've succeeded.**\n",
        "\n",
        "- [x] **The number of datapoints in the dataset.**\n",
        "- [x] **The number of unique branches of the retail sector the data covers.**\n",
        "- [x] **The first month covered by the data.**\n",
        "- [x] **The last month covered by the data.**"
      ]
    },
    {
      "cell_type": "code",
      "metadata": {
        "colab": {
          "base_uri": "https://localhost:8080/"
        },
        "id": "FXAJrwzR6sMJ",
        "outputId": "c0e00732-51f9-4824-8ef0-afc2d5d8f518"
      },
      "source": [
        "# Code of the number of datapoints in the dataset\n",
        "print('The number of datapoints in the dataset is {}'.format(len(retail_data))+'.')\n",
        "# Code of the number of unique branches of the retail sector the data covers\n",
        "print('The number of unique branches of the retail sector the data covers is {}' .format(len(set(d['Branche'] for d in retail_data)))+'.')\n",
        "# Code of the first month covered by the data\n",
        "first_month = retail_data[0]['Period']\n",
        "for row in retail_data:\n",
        "  if row['Period'] < first_month:\n",
        "    first_month = row['Period']\n",
        "print(f'The first month covered by the data is {first_month}'+'.')\n",
        "# Code of the last month covered by the data\n",
        "last_month = retail_data[-1]['Period']\n",
        "for row in retail_data:\n",
        "  if row['Period'] > last_month:\n",
        "    first_last = row['Period']\n",
        "print(f'The last month covered by the data is {last_month}'+'.')"
      ],
      "execution_count": 5,
      "outputs": [
        {
          "output_type": "stream",
          "text": [
            "The number of datapoints in the dataset is 3120.\n",
            "The number of unique branches of the retail sector the data covers is 16.\n",
            "The first month covered by the data is 2005 april.\n",
            "The last month covered by the data is 2021 maart*.\n"
          ],
          "name": "stdout"
        }
      ]
    },
    {
      "cell_type": "markdown",
      "metadata": {
        "id": "ctmiGRPN6sMJ"
      },
      "source": [
        "**7. In the code cell below, extract the revenue numbers for the following two sectors and put them in a list named exactly as indicated. Also create a list that contains all the months in ascending order. Run the cell after it to see a plot of the numbers if you did it correctly.**\n",
        "\n",
        "- [ ] Months in ascending order $\\Longrightarrow$ `months`\n",
        "- [ ] Clothing stores $\\Longrightarrow$  `clothing_stores_revenue`\n",
        "    - Tip: the Dutch word for *'clothing'* is *'kleding'*\n",
        "- [ ] Mail order companies and web shops $\\Longrightarrow$ `mail_order_revenue`\n",
        "    - Tip: the Dutch term for *'mail order companies'* is *'postorderbedrijven'*"
      ]
    },
    {
      "cell_type": "code",
      "metadata": {
        "id": "jBBXz9mm6sMJ"
      },
      "source": [
        ""
      ],
      "execution_count": null,
      "outputs": []
    },
    {
      "cell_type": "code",
      "metadata": {
        "id": "_UMgH7Z06sMK"
      },
      "source": [
        "# Do not modify the code in this cell.\n",
        "import matplotlib.pyplot as plt\n",
        "%matplotlib inline\n",
        "\n",
        "try:\n",
        "    fig, ax = plt.subplots(figsize=(16, 9))\n",
        "    ax.plot(months, clothing_stores_revenue, label=\"Clothing stores' revenue\")\n",
        "    ax.plot(months, mail_order_revenue, label=\"Mail order companies' revenue\")\n",
        "    ax.set_xlabel('Date')\n",
        "    ax.set_ylabel('Percent, 2015=100')\n",
        "    ax.legend()\n",
        "    plt.show()\n",
        "except Exception as e:\n",
        "    print('There was an error creating the plot.\\n'\n",
        "          'Check if your lists are correctly named and assembled.\\n'\n",
        "          \"Here's your error, for your debugging pleasure.\")\n",
        "    raise e"
      ],
      "execution_count": null,
      "outputs": []
    },
    {
      "cell_type": "markdown",
      "metadata": {
        "id": "D7bNcpvZ6sMK"
      },
      "source": [
        "**8. How do the two branches compare? Discuss any yearly cycles you observe, as well as long-term developments. Also explain why you think these patterns are there. Pretend you are writing this to your supervisor or a client who asked you to analyze this dataset.**\n",
        "\n",
        "*TODO: Your answer here.*"
      ]
    },
    {
      "cell_type": "markdown",
      "metadata": {
        "id": "-U54XQuB6sML"
      },
      "source": [
        "## 3. Computing With Data\n",
        "\n",
        "### 3.1 Year Over Year Change\n",
        "\n",
        "Let's take a closer look at these two branches of retail: clothing stores and mail order companies. A commonly used metric in business is the year-over-year revenue change. It is computed like so:\n",
        "\n",
        "$$\\text{YoY}_\\text{month} = \\frac{\\text{Revenue}_\\text{month}}{\\text{Revenue}_\\text{same month last year}} \\times 100$$\n",
        "\n",
        "Search the web for a longer explanation of this term if you'd like one.\n",
        "\n",
        "**9. Why should we compare revenue for a particular month to the revenue of that same month, one year ago?**\n",
        "\n",
        "*TODO: Your answer here.*\n",
        "\n",
        "**10. In the code cell below, compute the year-over-year revenue change for every month, for both branches of the retail sector, each in their own new list. Skip the first year (why?). Put an `x` in the checkboxes when you're ready. Run the next cell to see a new plot for your data.**\n",
        "\n",
        "- [ ] Clothing stores $\\Longrightarrow$ `clothing_stores_yoy`\n",
        "- [ ] Mail order companies $\\Longrightarrow$ `mail_order_yoy`\n",
        "\n"
      ]
    },
    {
      "cell_type": "code",
      "metadata": {
        "id": "Fz-4jJM26sML"
      },
      "source": [
        "# Your code here."
      ],
      "execution_count": null,
      "outputs": []
    },
    {
      "cell_type": "code",
      "metadata": {
        "id": "w-oby4I06sML"
      },
      "source": [
        "try:\n",
        "    fig, ax = plt.subplots(figsize=(16, 9))\n",
        "    ax.plot(months[12:], clothing_stores_yoy, label=\"Clothing stores' YoY\")\n",
        "    ax.plot(months[12:], mail_order_yoy, label=\"Mail order companies' YoY\")\n",
        "    ax.set_xlabel('Date')\n",
        "    ax.set_ylabel('YoY change, 2015=100')\n",
        "    ax.legend()\n",
        "    plt.show()\n",
        "except Exception as e:\n",
        "    print('There was an error creating the plot.\\n'\n",
        "          'Check if your lists are correctly named and assembled.\\n'\n",
        "          \"Here's your error, for your debugging pleasure.\")\n",
        "    raise e"
      ],
      "execution_count": null,
      "outputs": []
    },
    {
      "cell_type": "markdown",
      "metadata": {
        "id": "7kUmwaA96sMM"
      },
      "source": [
        "**11. In the code cell below, find the best and worst months for both branches of the retail sector in terms of year-over-year revenue change. Print the branch, month and YoY in a nice and tidy way.**"
      ]
    },
    {
      "cell_type": "code",
      "metadata": {
        "id": "aQ4O4QH96sMM"
      },
      "source": [
        "# Your code here."
      ],
      "execution_count": null,
      "outputs": []
    },
    {
      "cell_type": "markdown",
      "metadata": {
        "id": "nbGEboxb6sMM"
      },
      "source": [
        "### 3.2 Similarity Between Branches\n",
        "\n",
        "We've seen that the pattern for revenue is quite different for clothing stores and mail order companies. In other words: their revenues don't move up or down together. A way to make this observation more specific is to compute the **correlation coefficient**. It is a number between $-1$ and $1$ that describes the relation between two *random variables*. Here is how it works applied to our revenue numbers:\n",
        "\n",
        "- If the correlation coefficient for the revenue of two branches of the retail sector is $1$, their revenue is *positively correlated*. This means that when the revenue of branch A goes up, the revenue of branch B also goes up. In other words: the revenues for both branches go up together.\n",
        "- If the correlation coefficient is $-1$, the revenues of the two branches are *negatively correlated*. This means that if A's revenue goes up, B's revenue goes down. Similarly, if B's revenue goes up, A's revenue goes down. They move in the exact opposite direction.\n",
        "- If the correlation coefficient is $0$, there is no clear pattern between the revenues of both branches.\n",
        "\n",
        "Here's a table that summarizes this information:\n",
        "\n",
        "| Correlation coefficient | Meaning                              |\n",
        "|-------------------------|--------------------------------------|\n",
        "| $1$                     | Revenues go up together              |\n",
        "| $0$                     | No pattern                           |\n",
        "| $-1$                    | Revenues move in opposite directions |\n",
        "\n",
        "Note that there is a continuous scale between $-1$ and $1$! A correlation coefficient of $0.3$ indicates a somewhat positively correlated relationship.\n",
        "\n",
        "And here's an image that visualizes the correlation coefficient.\n",
        "\n",
        "<img src=\"https://upload.wikimedia.org/wikipedia/commons/d/d4/Correlation_examples2.svg\"/>\n",
        "\n",
        "We've provided a function `corrcoef` that computes the correlation coefficient for two lists.\n",
        "\n",
        "**11. In the code cell below, use the function `corrcoef` to compute the correlation coefficient for each pair of branches in our dataset. Then print a sorted table that shows each unique pair and their correlation coefficients. Sort by the correlation coefficient, in descending order. You can take inspiration from this table (but it doesn't have to look exactly like it):**\n",
        "\n",
        "```\n",
        "Coeff   Branch A                                          Branch B                                          \n",
        "===========================================================================================================\n",
        "0.98    4711, 472 Winkels in voedingsmiddelen             4711 Supermarkten                                 \n",
        "0.91    475 Winkels in overige huishoudwaren              4752 Winkels in doe-het-zelfartikelen             \n",
        "0.91    47528 Bouwmarkten                                 4752 Winkels in doe-het-zelfartikelen               \n",
        "```"
      ]
    },
    {
      "cell_type": "code",
      "metadata": {
        "id": "ajB_ZaX16sMN"
      },
      "source": [
        "import numpy as np\n",
        "\n",
        "# Provided function. Use this to obtain the correlation coefficient for two lists.\n",
        "def corrcoef(branch_a, branch_b):\n",
        "    return np.corrcoef(branch_a, branch_b)[0, 1]\n",
        "\n",
        "# Your code here."
      ],
      "execution_count": null,
      "outputs": []
    },
    {
      "cell_type": "markdown",
      "metadata": {
        "id": "zakodOfc6sMO"
      },
      "source": [
        "**12. Pick two correlation coefficients from the table you created and explain why you think these values are the way that they are. Be sure to pick two coefficients that are not close to each other.**\n",
        "\n",
        "*TODO: Your answer here.*\n",
        "\n",
        "**13. Imagine you are a very risk-averse investor shaping your portfolio of investments in the retail sector. How would you use the information in the table you created to minimize your investment risk? Which two branches of the retail sector would you invest in if you had to pick two? Use the correlation coefficient in your answer.**\n",
        "\n",
        "*TODO: Your answer here.*"
      ]
    },
    {
      "cell_type": "markdown",
      "metadata": {
        "id": "oFZZJFsd6sMO"
      },
      "source": [
        "## 4. Conclusion\n",
        "\n",
        "You made it! This was the Retail assignment. Before you hand it in: restart the kernel and run all the cells. Then save it to GitHub and share the link with us in the usual way."
      ]
    }
  ]
}